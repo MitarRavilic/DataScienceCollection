{
 "cells": [
  {
   "cell_type": "code",
   "execution_count": 1,
   "metadata": {},
   "outputs": [
    {
     "name": "stderr",
     "output_type": "stream",
     "text": [
      "Using TensorFlow backend.\n"
     ]
    }
   ],
   "source": [
    "import numpy as np\n",
    "import pandas as pd\n",
    "import matplotlib.pyplot as plt\n",
    "from keras.wrappers.scikit_learn import KerasClassifier\n",
    "from keras.models import Sequential\n",
    "from keras.layers import Dense\n",
    "from sklearn.datasets import load_digits\n",
    "from sklearn.model_selection import cross_val_score\n",
    "from sklearn.model_selection import KFold"
   ]
  },
  {
   "cell_type": "code",
   "execution_count": 2,
   "metadata": {
    "collapsed": true
   },
   "outputs": [],
   "source": [
    "dataset = load_digits()\n",
    "X = dataset['data']\n",
    "y = dataset['target']"
   ]
  },
  {
   "cell_type": "code",
   "execution_count": 3,
   "metadata": {
    "collapsed": true
   },
   "outputs": [],
   "source": [
    "#picking just two digits from the set\n",
    "X_3=X[y==3]\n",
    "y_3=y[y==3]\n",
    "X_6=X[y==6]\n",
    "y_6=y[y==6]"
   ]
  },
  {
   "cell_type": "code",
   "execution_count": 4,
   "metadata": {
    "collapsed": true
   },
   "outputs": [],
   "source": [
    "X_36=np.vstack((X_3,X_6))\n",
    "y_36=np.concatenate((y_3,y_6),axis=0)"
   ]
  },
  {
   "cell_type": "code",
   "execution_count": 5,
   "metadata": {
    "collapsed": true
   },
   "outputs": [],
   "source": [
    "mapa= np.arange(len(y_36))\n",
    "np.random.shuffle(mapa)\n",
    "odnos=0.7\n",
    "mapa_train= mapa[:(int(len(mapa)*odnos))]\n",
    "mapa_test= mapa[(int(len(mapa)*odnos)):]\n",
    "\n",
    "X_train=X_36[mapa_train]\n",
    "X_test= X_36[mapa_test]\n",
    "y_train= y_36[mapa_train]\n",
    "y_test= y_36[mapa_test]"
   ]
  },
  {
   "cell_type": "code",
   "execution_count": 8,
   "metadata": {
    "collapsed": true
   },
   "outputs": [],
   "source": [
    "def baseline_model():\n",
    "    model= Sequential()\n",
    "    model.add(Dense(20,input_dim=64,activation='relu'))\n",
    "    model.add(Dense(2,activation= 'softmax'))\n",
    "    model.compile(loss='categorical_crossentropy',optimizer='adam', metrics=['accuracy'])\n",
    "    return model"
   ]
  },
  {
   "cell_type": "code",
   "execution_count": 9,
   "metadata": {},
   "outputs": [
    {
     "name": "stdout",
     "output_type": "stream",
     "text": [
      "Accuracy: %.2f%% (%.2f%%) 100.0 0.0\n"
     ]
    }
   ],
   "source": [
    "estimator= KerasClassifier(build_fn=baseline_model, epochs= 200, batch_size= 5, verbose= 0)\n",
    "kfold = KFold(n_splits=10, shuffle=True)\n",
    "results= cross_val_score(estimator, X_train, y_train, cv=kfold)\n",
    "\n",
    "print(\"Accuracy: %.2f%% (%.2f%%)\", results.mean()*100, results.std()*100)\n"
   ]
  },
  {
   "cell_type": "code",
   "execution_count": null,
   "metadata": {
    "collapsed": true
   },
   "outputs": [],
   "source": []
  }
 ],
 "metadata": {
  "kernelspec": {
   "display_name": "Python 3",
   "language": "python",
   "name": "python3"
  },
  "language_info": {
   "codemirror_mode": {
    "name": "ipython",
    "version": 3
   },
   "file_extension": ".py",
   "mimetype": "text/x-python",
   "name": "python",
   "nbconvert_exporter": "python",
   "pygments_lexer": "ipython3",
   "version": "3.6.0"
  }
 },
 "nbformat": 4,
 "nbformat_minor": 2
}
